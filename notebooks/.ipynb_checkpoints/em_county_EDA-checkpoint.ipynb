{
 "cells": [
  {
   "cell_type": "markdown",
   "id": "cbbca03f-50c3-44ce-aa1f-4ffa4033e777",
   "metadata": {},
   "source": [
    "# County-Level Emissions EDA"
   ]
  },
  {
   "cell_type": "markdown",
   "id": "1d96429d-e012-40cc-953b-000e5e35cef3",
   "metadata": {},
   "source": [
    "### 0. Import Packages"
   ]
  },
  {
   "cell_type": "code",
   "execution_count": 1,
   "id": "390c028c-03eb-474b-a4a7-6c2ad37d9afb",
   "metadata": {},
   "outputs": [],
   "source": [
    "import pandas as pd\n",
    "\n",
    "import matplotlib.pyplot as plt\n",
    "import seaborn as sns"
   ]
  },
  {
   "cell_type": "markdown",
   "id": "cccee1a3-8da3-4070-bdb6-219928def396",
   "metadata": {},
   "source": [
    "### 1. Functionalize County-Level EDA"
   ]
  },
  {
   "cell_type": "markdown",
   "id": "c582a73b-19c2-4f87-b3f6-ed3d8db55a16",
   "metadata": {},
   "source": [
    "**Functionalizing County Data EDA**\n",
    "\n",
    "Function should accept a county name, source name, and whether per capita, and produce the corresponding plot:\n",
    "\n",
    "- Counties:\n",
    "    - alpine\n",
    "    - humboldt\n",
    "    - kern\n",
    "    - los_angeles\n",
    "    - marin\n",
    "    - riverside\n",
    "    - sacramento\n",
    "    - san_diego\n",
    "    - santa_clara\n",
    "    - yuba\n",
    "- Sources:\n",
    "    - Electric utility fuel burning\n",
    "    - Cogeneration\n",
    "    - On-road motor vehicles"
   ]
  },
  {
   "cell_type": "code",
   "execution_count": 6,
   "id": "7843ac3a-f8d5-4ac3-a350-e7153f26435d",
   "metadata": {},
   "outputs": [
    {
     "ename": "SyntaxError",
     "evalue": "invalid syntax (2875527295.py, line 10)",
     "output_type": "error",
     "traceback": [
      "\u001b[1;36m  Input \u001b[1;32mIn [6]\u001b[1;36m\u001b[0m\n\u001b[1;33m    if source='all':\u001b[0m\n\u001b[1;37m             ^\u001b[0m\n\u001b[1;31mSyntaxError\u001b[0m\u001b[1;31m:\u001b[0m invalid syntax\n"
     ]
    }
   ],
   "source": [
    "def county_EDA(county, source=None, percap=False):\n",
    "    \n",
    "    # define em_types\n",
    "    em_types = ['co', 'nh3', 'nox', 'pm', 'pm10', 'pm2_5', 'rog', 'sox', 'tog']\n",
    "    \n",
    "    # load appropriate data\n",
    "    df = pd.read_csv(f'../data/CARB Emissions Data/counties/{county}/{county}_grouping.csv')\n",
    "    \n",
    "    # all sources\n",
    "    if source='all':\n",
    "        if percap=False:    \n",
    "            plt.figure(figsize=(15, 9))\n",
    "\n",
    "            for em in em_types:\n",
    "                plt.plot(df[df.em_type == em].groupby('year')['tons_per_day'].sum(), label=em)\n",
    "\n",
    "            #plt.vlines([2008, 2018], ymin=0, ymax=30_000, linestyles='dashed', colors='red')\n",
    "            plt.xticks(ticks=range(2000, 2022))\n",
    "            plt.ylabel('Tons per Day', fontdict={'fontsize': 15})\n",
    "            plt.xlabel('Year', fontdict={'fontsize': 15})\n",
    "            plt.title('California Emissions by Type, 2000-21', fontdict={'fontsize': 20})\n",
    "            plt.legend(fontsize=12);"
   ]
  },
  {
   "cell_type": "code",
   "execution_count": null,
   "id": "928c194d-cb10-4c98-aaff-cdba525aa0c0",
   "metadata": {},
   "outputs": [],
   "source": []
  },
  {
   "cell_type": "code",
   "execution_count": null,
   "id": "235f6ce1-75c7-469b-8fd8-98d4c6738be0",
   "metadata": {},
   "outputs": [],
   "source": []
  },
  {
   "cell_type": "code",
   "execution_count": null,
   "id": "c49e16c7-c124-4635-b372-3a3ae71ee86f",
   "metadata": {},
   "outputs": [],
   "source": []
  },
  {
   "cell_type": "code",
   "execution_count": null,
   "id": "66f726ec-2cff-473c-8a6b-79b9ea357996",
   "metadata": {},
   "outputs": [],
   "source": []
  },
  {
   "cell_type": "code",
   "execution_count": null,
   "id": "e97b5ad3-536d-43a3-90a9-ae8a9112c1f2",
   "metadata": {},
   "outputs": [],
   "source": []
  },
  {
   "cell_type": "code",
   "execution_count": null,
   "id": "90ecc8d3-e107-4fe7-b31e-455138c1202a",
   "metadata": {},
   "outputs": [],
   "source": []
  },
  {
   "cell_type": "code",
   "execution_count": null,
   "id": "f4fe98a9-afcd-4110-ae4b-c8f08434b7f7",
   "metadata": {},
   "outputs": [],
   "source": []
  },
  {
   "cell_type": "code",
   "execution_count": null,
   "id": "9bf212ff-f2e1-4a36-a7d3-ee7a5aa4bf7c",
   "metadata": {},
   "outputs": [],
   "source": []
  },
  {
   "cell_type": "code",
   "execution_count": null,
   "id": "a5409c97-76d1-4989-882f-d148ea0dd2b6",
   "metadata": {},
   "outputs": [],
   "source": []
  },
  {
   "cell_type": "code",
   "execution_count": null,
   "id": "3eab8c3d-57a8-4e41-a5f8-b2342de3b93d",
   "metadata": {},
   "outputs": [],
   "source": []
  },
  {
   "cell_type": "code",
   "execution_count": null,
   "id": "0da5857c-3638-4483-8796-876bf39369b6",
   "metadata": {},
   "outputs": [],
   "source": []
  }
 ],
 "metadata": {
  "kernelspec": {
   "display_name": "Python 3 (ipykernel)",
   "language": "python",
   "name": "python3"
  },
  "language_info": {
   "codemirror_mode": {
    "name": "ipython",
    "version": 3
   },
   "file_extension": ".py",
   "mimetype": "text/x-python",
   "name": "python",
   "nbconvert_exporter": "python",
   "pygments_lexer": "ipython3",
   "version": "3.9.12"
  }
 },
 "nbformat": 4,
 "nbformat_minor": 5
}
